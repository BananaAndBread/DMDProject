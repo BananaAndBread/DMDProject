{
 "cells": [
  {
   "cell_type": "code",
   "execution_count": 1,
   "metadata": {},
   "outputs": [
    {
     "name": "stderr",
     "output_type": "stream",
     "text": [
      "/home/banana_and_bread/.local/lib/python3.6/site-packages/psycopg2/__init__.py:144: UserWarning: The psycopg2 wheel package will be renamed from release 2.8; in order to keep installing from binary please use \"pip install psycopg2-binary\" instead. For details see: <http://initd.org/psycopg/docs/install.html#binary-install-from-pypi>.\n",
      "  \"\"\")\n"
     ]
    }
   ],
   "source": [
    "import db_requests\n",
    "from functools import wraps"
   ]
  },
  {
   "cell_type": "code",
   "execution_count": 2,
   "metadata": {},
   "outputs": [],
   "source": [
    "from IPython import display\n",
    "import ipywidgets as widgets"
   ]
  },
  {
   "cell_type": "code",
   "execution_count": 3,
   "metadata": {},
   "outputs": [
    {
     "data": {
      "text/html": [
       "<style>\n",
       "textarea\n",
       "{\n",
       "font-family: monospace;\n",
       "}\n",
       "</style>\n"
      ],
      "text/plain": [
       "<IPython.core.display.HTML object>"
      ]
     },
     "metadata": {},
     "output_type": "display_data"
    }
   ],
   "source": [
    "%%html\n",
    "<style>\n",
    "textarea\n",
    "{\n",
    "font-family: monospace;\n",
    "}\n",
    "</style>"
   ]
  },
  {
   "cell_type": "code",
   "execution_count": 4,
   "metadata": {},
   "outputs": [],
   "source": [
    "def build_html_table(headings, data):\n",
    "    html_source = ['<table><thead><tr>']\n",
    "    for heading in headings:\n",
    "        html_source.append(f'<th>{str(heading)}</th>')\n",
    "    html_source.append('</thead><tbody>')\n",
    "    for row in data:\n",
    "        html_source.append('<tr>')\n",
    "        for el in row:\n",
    "            html_source.append(f'<td>{str(el)}</td>')\n",
    "        html_source.append('</tr>')\n",
    "    html_source.append('</tbody></table>')\n",
    "    \n",
    "    return display.HTML(''.join(html_source))"
   ]
  },
  {
   "cell_type": "code",
   "execution_count": 5,
   "metadata": {},
   "outputs": [],
   "source": [
    "def menu():\n",
    "    print(\"Welcome to DMD project\")\n",
    "    print(\"Choose query by typing its number\")\n",
    "\n",
    "\n",
    "    print('''\n",
    "    1 query\n",
    "    A customer claims she forgot her bag in a car and asks to help. She was using cars several\n",
    "    times this day, but she believes the right car was red and its plate starts with “AN”. Find all\n",
    "    possible cars that match the description.\n",
    "    ''')\n",
    "    print('''\n",
    "    2 query\n",
    "    Company management wants to get a statistics on the efficiency of charging stations\n",
    "    utilization. Given a date, compute how many sockets were occupied each hour.\n",
    "    ''')\n",
    "    print('''\n",
    "    3 query\n",
    "     Company management considers using price increasing coefficients. They need to gather\n",
    "    statistics for one week on how many cars are busy (% to the total amount of taxis) during the\n",
    "    morning (7AM - 10 AM), afternoon (12AM - 2PM) and evening (5PM - 7PM) time.\n",
    "    ''')\n",
    "    print('''\n",
    "    4 query\n",
    "    A customer claims that he was charged twice for the trip, but he can’t say exactly what day it\n",
    "    happened (he deleted notification from his phone and he is too lazy to ask the bank), so you\n",
    "    need to check all his payments for the last month to be be sure that nothing was doubled.\n",
    "    ''')\n",
    "    print('''\n",
    "    5 query\n",
    "    he department of development has requested the following statistics:\n",
    "    Average distance a car has to travel per day to customer’s order location\n",
    "    Average trip duration\n",
    "    Given a date as an input, compute the statistics above.\n",
    "    ''')\n",
    "    print('''\n",
    "    6 query\n",
    "     In order to accommodate traveling demand, the company decided to distribute cars according\n",
    "    to demand locations. Your task is to compute top-3 most popular pick-up locations and travel\n",
    "    destination for each time of day: morning (7am-10am), afternoon (12am-2pm) and evening\n",
    "    (5pm-7pm).   \n",
    "    ''')\n",
    "    print('''\n",
    "    7 query\n",
    "    Despite the wise management, the company is going through hard times and can’t afford\n",
    "    anymore to maintain the current amount of self-driving cars. The management decided to stop\n",
    "    using 10% of all self-driving cars, which take least amount of orders for the last 3 months.\n",
    "\n",
    "    ''')\n",
    "    print('''\n",
    "    8 query\n",
    "    The company management decided to participate in the research on “does customer location\n",
    "    of residence depend on how many charging station the self-driving cars was using the same\n",
    "    day”. Now you as DB developer need to provide this data. You’ve decided to collect the data\n",
    "    for each day within one month and then sum them up.\n",
    "    ''')\n",
    "    print('''\n",
    "    9 query\n",
    "    The company management decided to optimize repair costs by buying parts in bulks from\n",
    "    providers for every workshop. Help them decide which parts are used the most every week by\n",
    "    every workshop and compute the necessary amount of parts to order.\n",
    "    ''')\n",
    "\n",
    "    print('''\n",
    "    10 query\n",
    "    \n",
    "    The company management decided to cut costs by getting rid of the most expensive car to\n",
    "    maintain. Find out which car type has had the highest average (per day) cost of repairs and\n",
    "    charging (combined).\n",
    "    ''')\n",
    "\n",
    "    query = input(\"Select query you want by typing it's number:\\n\")\n",
    "    return query\n",
    "\n",
    "\n",
    "def validate_query(query):\n",
    "    if query>=1 and query<=10:\n",
    "        return True\n",
    "    else:\n",
    "        return False\n",
    "    \n",
    "    \n",
    "def request_func_by_idx(i):\n",
    "    funcs = [\n",
    "        db_requests.first_request,\n",
    "        db_requests.second_request,\n",
    "        db_requests.third_request,\n",
    "        db_requests.fouth_request,\n",
    "        db_requests.fifth_request,\n",
    "        db_requests.sixth_request,\n",
    "        db_requests.seventh_request,\n",
    "        db_requests.eighth_request,\n",
    "        db_requests.ninth_request,\n",
    "        db_requests.tenth_request\n",
    "    ]\n",
    "    return funcs[i - 1]\n",
    "    \n",
    "    \n",
    "def wrap(req):\n",
    "    @wraps(req)\n",
    "    def wrapper(**kwargs):\n",
    "        try:\n",
    "            return build_html_table(*req(**kwargs))\n",
    "        except Exception as e:\n",
    "            print(f'error occurred: {e}')\n",
    "    return wrapper\n",
    "        \n",
    "\n",
    "def print_results(choice):\n",
    "    if choice == 'custom':\n",
    "        return widgets.interact(\n",
    "            wrap(db_requests.custom),\n",
    "            query=widgets.Textarea(\n",
    "                placeholder='SELECT * FROM users;',\n",
    "                disabled=False,\n",
    "                style={'font_family': 'monospace'}\n",
    "            )\n",
    "        )\n",
    "    req = wrap(request_func_by_idx(choice))\n",
    "    if choice == 2:\n",
    "        return widgets.interact(req, date='2018-11-11')\n",
    "    if choice == 4:\n",
    "        return widgets.interact(\n",
    "            req,\n",
    "            user_id=widgets.Text(\n",
    "                value='1',\n",
    "                disabled=False\n",
    "            )\n",
    "        )\n",
    "    if choice == 5:\n",
    "        return widgets.interact(\n",
    "            req, \n",
    "            date='2018-11-11'\n",
    "        )\n",
    "    return req()\n",
    "    \n"
   ]
  },
  {
   "cell_type": "code",
   "execution_count": 7,
   "metadata": {},
   "outputs": [
    {
     "data": {
      "application/vnd.jupyter.widget-view+json": {
       "model_id": "ab3a585274dc4c159b517cf0ebfb643f",
       "version_major": 2,
       "version_minor": 0
      },
      "text/plain": [
       "interactive(children=(Dropdown(description='choice', options=(1, 2, 3, 4, 5, 6, 7, 8, 9, 10, 'custom'), value=…"
      ]
     },
     "metadata": {},
     "output_type": "display_data"
    },
    {
     "data": {
      "text/plain": [
       "<function __main__.print_results(choice)>"
      ]
     },
     "execution_count": 7,
     "metadata": {},
     "output_type": "execute_result"
    }
   ],
   "source": [
    "widgets.interact(\n",
    "    print_results,\n",
    "    choice=widgets.Dropdown(\n",
    "        options=list(range(1, 11)) + ['custom'],\n",
    "        disabled=False\n",
    "    )\n",
    ")"
   ]
  },
  {
   "cell_type": "code",
   "execution_count": null,
   "metadata": {},
   "outputs": [],
   "source": []
  },
  {
   "cell_type": "code",
   "execution_count": null,
   "metadata": {},
   "outputs": [],
   "source": []
  }
 ],
 "metadata": {
  "kernelspec": {
   "display_name": "Python 3",
   "language": "python",
   "name": "python3"
  },
  "language_info": {
   "codemirror_mode": {
    "name": "ipython",
    "version": 3
   },
   "file_extension": ".py",
   "mimetype": "text/x-python",
   "name": "python",
   "nbconvert_exporter": "python",
   "pygments_lexer": "ipython3",
   "version": "3.6.7"
  }
 },
 "nbformat": 4,
 "nbformat_minor": 2
}
